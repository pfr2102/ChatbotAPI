{
 "cells": [
  {
   "cell_type": "code",
   "execution_count": 1,
   "metadata": {},
   "outputs": [],
   "source": [
    "import nltk\n",
    "import numpy as np\n",
    "import random\n",
    "import string"
   ]
  },
  {
   "cell_type": "markdown",
   "metadata": {},
   "source": [
    "# 1 DEFINICIÓN CORPUS"
   ]
  },
  {
   "cell_type": "code",
   "execution_count": 2,
   "metadata": {},
   "outputs": [
    {
     "data": {
      "text/plain": [
       "'Para saber cmo vestir, la estacin del ao y la temperatura media de la zona marcan siempre la vestimenta ms adecuada para los cruceros, aunque los cruceros tienden a ser cada vez ms informales sobre todo durante el da.\\n\\nEl programa del da le indicar siempre la ropa ms adecuada.\\n\\nRespecto al calzado, en tierra necesitars zapatos cmodos para caminar, as como sombrero y proteccin solar (en verano).\\n\\nLas propinas son una norma generalizada, obligatorias, en todos los barcos de crucero, de hecho, forman parte del sueldo del personal y forman parte del llamado servicio.\\n\\nDependiendo de la naviera, para embarcar es conveniente llegar al embarque 3 o 4 horas antes de la hora de zarpar, normalmente los embarques suelen ser al medioda y casi todas las compaas de cruceros ofrecen un buffet para comer.\\n\\nLa comida es un punto fuerte, los cruceros son una oportunidad nica para poder degustar una amplia gama de alta calidad, con una diversidad de platos tpicos de todas las partes del mundo, ya sea con sabor mediterrneo como al ms propio estilo americano.\\n\\nLa reserva incluye el alojamiento en el barco en la categora elegida, el transporte martimo, todas las comidas, algunas bebidas sin alcohol (dependiendo del barco) y la mayora del entretenimiento.\\n\\nPara pagar a bordo los gastos adicionales, estos sern cargados en una cuenta personal que se abrir el da del embarque, excepto los gastos del casino y algunos otros especiales, de esta manera el pasajero no deber llevar dinero encima.\\n\\nLa mayora de buques ya disponen de internet como servicio.\\n\\nPuedes usar el telfono mvil siempre que tengas cobertura suficiente para hacer llamadas, esto suele ser normalmente cuando el buque se encuentra en puerto o navegando cerca de la costa.\\n\\nLos itinerarios estn hechos para que la navegacin resulte lo ms apacible posible, por lo que los lugares ms visitados son de aguas tranquilas y por tanto el barco tiene poco movimiento.\\n\\nLos barcos de cruceros disponen de un servicio mdico en caso de que se ponga enfermo, siendo los servicios mdicos prestados son de pago, por lo que recomendamos utilizar un seguro mdico.\\n\\nEst prohibido fumar en los teatros, en los restaurantes y buffet de autoservicio (locales cerrados), en los corredores, pasillos, vestbulos, antesalas e interiores de los ascensores y escaleras. En los salones se han previsto zonas reservadas para los fumadores. Pipas, cigarrillos y puros estn permitidos slo en algunos lugares dedicados a tal fin. \\n\\nActualmente los camarotes de los buques de crucero estn diseados para ofrecer el mayor confort a los pasajeros, pudindose encontrar en la mayora de ellos cmo servicios privados con baera o ducha, corriente elctrica (110 o 220V), radio con varios canales, telfono para comunicaciones entre cabinas o con el exterior, mueble tocador, cajas de seguridad (en cabina o en recepcin), toallas, complementos de bao y tocador, etc.\\n\\nTodas las cabinas disponen de camas bajas o literas, segn la ocupacin del camarote.\\n\\nUn crucero no es slo la navegacin y las escalas, cada noche recibir en su camarote el programa del da siguiente para que lo pueda planificar a su conveniencia con las actividades preparadas para el da siguiente, se detallan los horarios de todos los servicios y actividades a bordo, excursiones facultativas, etc.  \\n\\nS, es posible con algunas compaas navieras desayunar en el camarote, quien desea su desayuno (caf con leche, t, brioches, mermeladas, etc...) servido en el camarote puede rellenar la hoja de pedido que encontrar en el camarote y colocarla en la manilla externa de la puerta antes de ir a dormir. \\n\\nLa temperatura en los camarotes y en las suites se controla individualmente mediante un termostato.\\n\\nLas operaciones de desembarque en la actualidad son sencillas, nicamente debers dejar listo tu equipaje la noche anterior al desembarque, a la hora que te indique el programa del da y dejar liquidados los gastos extras que hayas realizado durante el crucero.\\n\\nLos Cruceros son las vacaciones 10, muy cmodos y agradables. \\n\\nLos que tienen las visitas ms interesantes, los Cruceros por Mediterrneo Oriental. \\n\\nLos ms tranquilos, culturales y desbordantes de naturaleza, los Cruceros por el Norte de Europa. \\n\\nLos ms animados y multinacionales, los Cruceros por el Caribe.\\n\\nNo se admiten mascotas a bordo.\\n\\nLos nios y jvenes son especialmente bienvenidos a bordo y cuentan con multitud de actividades. \\n\\nS, hay tiendas a bordo y vale la pena visitarlas, donde puedes encontrar perfumes, ropa, accesorios, cosmticos, joyas, relojes, recuerdos, etc.\\n\\nPor norma general, las embarazadas que lleguen a la 23 semana de gestacin antes de que termine el crucero, podrn realizarlo, siempre y cuando tengan un certificado firmado por el especialista que declare que estn en condiciones de realizar el viaje (el nmero de semanas variar en funcin de la naviera).\\n\\nEst prohibido transportar mercancas peligrosas, bebida y comida con procedencia del exterior, por lo que ser recogido por el oficial de seguridad y entregado al pasajero al finalizar el desembarque.\\n\\nLos cruceros han sido y siguen siendo una gran alternativa para los viajes de novios por la gran cantidad de ventajas que ofrecen, es importante la sencillez de la reserva del crucero, ya que, adems de elegir el crucero, no tenis que preocuparos por nada.\\n\\nLa edad mnima de los bebs para viajar en un crucero es de 6 meses para todas las navieras, excepto alguna compaa especial que no hay edad mnima para el embarque.\\n'"
      ]
     },
     "execution_count": 2,
     "metadata": {},
     "output_type": "execute_result"
    }
   ],
   "source": [
    "f=open(r'Corpus_crucero.txt','r',errors = 'ignore')\n",
    "raw=f.read()\n",
    "raw"
   ]
  },
  {
   "cell_type": "markdown",
   "metadata": {},
   "source": [
    "# 2a Preprocesamiento del Texto con NTLK CORPUS"
   ]
  },
  {
   "cell_type": "code",
   "execution_count": 3,
   "metadata": {},
   "outputs": [],
   "source": [
    "raw=raw.lower()# convertir en minúscula\n",
    "#nltk.download('punkt') # Instalar módulo punkt si no está ya instalado (solo ejecutar la primera vez)\n",
    "#nltk.download('wordnet') # Instalar módulo wordnet si no está ya instalado (solo ejecutar la primera vez)\n",
    "sent_tokens = nltk.sent_tokenize(raw)# Convierte el CORPUS a una lista de sentencias\n",
    "word_tokens = nltk.word_tokenize(raw)# Convierte el CORPUS a una lista de palabras\n",
    "lemmer = nltk.stem.WordNetLemmatizer()\n",
    "\n",
    "#WordNet diccionario semántico incluido en NLTK\n",
    "def LemTokens(tokens):\n",
    "    return [lemmer.lemmatize(token) for token in tokens]\n",
    "\n",
    "remove_punct_dict = dict((ord(punct), None) for punct in string.punctuation)\n",
    "def LemNormalize(text):\n",
    "    return LemTokens(nltk.word_tokenize(text.lower().translate(remove_punct_dict)))"
   ]
  },
  {
   "cell_type": "markdown",
   "metadata": {},
   "source": [
    "# 2b PREPROCESAMIENTO DEL TEXTO + 3 Evaluar Similitud MENSAJE USUARIO - CORPUS"
   ]
  },
  {
   "cell_type": "code",
   "execution_count": 4,
   "metadata": {},
   "outputs": [],
   "source": [
    "from sklearn.feature_extraction.text import TfidfVectorizer\n",
    "from sklearn.metrics.pairwise import cosine_similarity\n",
    "from nltk.corpus import stopwords\n",
    "\n",
    "#Función para determinar la similitud del texto insertado y el corpus\n",
    "def response(user_response):\n",
    "    robo_response=''\n",
    "    sent_tokens.append(user_response) #Añade al corpus la respuesta de usuario al final\n",
    "    TfidfVec = TfidfVectorizer(tokenizer=LemNormalize, stop_words=stopwords.words('spanish'))\n",
    "    tfidf = TfidfVec.fit_transform(sent_tokens)\n",
    "    # 3 EVALUAR SIMILITUD DE COSENO ENTRE MENSAJE USUARIO (tfidf[-1]) y el CORPUS (tfidf)\n",
    "    vals = cosine_similarity(tfidf[-1], tfidf)\n",
    "    idx=vals.argsort()[0][-2]\n",
    "    flat = vals.flatten()\n",
    "    flat.sort()\n",
    "    req_tfidf = flat[-2]\n",
    "    \n",
    "    if(req_tfidf==0):\n",
    "        robo_response=robo_response+\"Lo siento, no te he entendido. Si no puedo responder a lo que busca póngase en contacto con soporte@soporte.com\"\n",
    "        return robo_response\n",
    "\n",
    "    else:\n",
    "        robo_response = robo_response+sent_tokens[idx]\n",
    "        return robo_response"
   ]
  },
  {
   "cell_type": "markdown",
   "metadata": {},
   "source": [
    "# 4 DEFINICIÓN DE COINCIDENCIAS MANUAL"
   ]
  },
  {
   "cell_type": "code",
   "execution_count": 5,
   "metadata": {},
   "outputs": [],
   "source": [
    "SALUDOS_INPUTS = (\"hola\", \"buenas\", \"saludos\", \"qué tal\", \"hey\",\"buenos dias\",)\n",
    "SALUDOS_OUTPUTS = [\"Hola\", \"Hola, ¿Qué tal?\", \"Hola, ¿Cómo te puedo ayudar?\", \"Hola, encantado de hablar contigo\"]\n",
    "\n",
    "def saludos(sentence):\n",
    "    for word in sentence.split():\n",
    "        if word.lower() in SALUDOS_INPUTS:\n",
    "            return random.choice(SALUDOS_OUTPUTS)"
   ]
  },
  {
   "cell_type": "markdown",
   "metadata": {},
   "source": [
    "# 5 GENERACIÓN DE RESPUESTA"
   ]
  },
  {
   "cell_type": "code",
   "execution_count": null,
   "metadata": {},
   "outputs": [
    {
     "name": "stdout",
     "output_type": "stream",
     "text": [
      "ROBOT: Mi nombre es ROBOT. Contestaré a tus preguntas acerca de sus vacaciones en el crucero. Si quieres salir, escribe 'salir' \n"
     ]
    }
   ],
   "source": [
    "flag=True\n",
    "print(\"ROBOT: Mi nombre es ROBOT. Contestaré a tus preguntas acerca de sus vacaciones en el crucero. Si quieres salir, escribe 'salir' \")\n",
    "while(flag==True):\n",
    "    user_response = input()\n",
    "    user_response = user_response.lower() #Convertimos a minúscula\n",
    "    \n",
    "    if(user_response!='salir'):\n",
    "        \n",
    "        if(user_response=='gracias' or user_response=='muchas gracias'): #Se podría haber definido otra función de coincidencia manual\n",
    "            flag=True\n",
    "            print(\"ROBOT: No hay de qué\")\n",
    "            \n",
    "        else:\n",
    "            if(saludos(user_response)!=None): #Si la palabra insertada por el usuario es un saludo (Coincidencias manuales definidas previamente)\n",
    "                print(\"ROBOT: \"+saludos(user_response))\n",
    "                \n",
    "            else: #Si la palabra insertada no es un saludo --> CORPUS\n",
    "                print(\"ROBOT: \",end=\"\") \n",
    "                print(response(user_response))\n",
    "                sent_tokens.remove(user_response) # para eliminar del corpus la respuesta del usuario y volver a evaluar con el CORPUS limpio\n",
    "    else:\n",
    "        flag=False\n",
    "        print(\"ROBOT: Nos vemos pronto, ¡cuídate!\")"
   ]
  },
  {
   "cell_type": "code",
   "execution_count": null,
   "metadata": {},
   "outputs": [],
   "source": []
  },
  {
   "cell_type": "code",
   "execution_count": null,
   "metadata": {},
   "outputs": [],
   "source": []
  }
 ],
 "metadata": {
  "kernelspec": {
   "display_name": "Python 3 (ipykernel)",
   "language": "python",
   "name": "python3"
  },
  "language_info": {
   "codemirror_mode": {
    "name": "ipython",
    "version": 3
   },
   "file_extension": ".py",
   "mimetype": "text/x-python",
   "name": "python",
   "nbconvert_exporter": "python",
   "pygments_lexer": "ipython3",
   "version": "3.9.7"
  }
 },
 "nbformat": 4,
 "nbformat_minor": 4
}
